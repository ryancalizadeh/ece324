{
 "cells": [
  {
   "cell_type": "code",
   "execution_count": 1,
   "metadata": {},
   "outputs": [],
   "source": [
    "from ConfigGenerator import ConfigGenerator\n",
    "from ExperimentRunner import ExperimentRunner\n",
    "from ExperimentConfig import ExperimentConfig\n",
    "from DataLoader import DataLoader\n",
    "from Results import Results\n",
    "\n",
    "import numpy as np\n",
    "import os"
   ]
  },
  {
   "cell_type": "code",
   "execution_count": 2,
   "metadata": {},
   "outputs": [],
   "source": [
    "config_file_dir = \"configs/\"\n",
    "results_file = \"results.npy\"\n",
    "\n",
    "ConfigGenerator.generate_config_files(config_file_dir)\n",
    "data_loader = DataLoader()"
   ]
  },
  {
   "cell_type": "code",
   "execution_count": 2,
   "metadata": {},
   "outputs": [
    {
     "data": {
      "text/plain": [
       "125"
      ]
     },
     "execution_count": 2,
     "metadata": {},
     "output_type": "execute_result"
    }
   ],
   "source": [
    "ConfigGenerator.get_num_files()"
   ]
  },
  {
   "cell_type": "code",
   "execution_count": null,
   "metadata": {},
   "outputs": [],
   "source": [
    "accuracy = np.zeros(ConfigGenerator.get_results_shape())"
   ]
  },
  {
   "cell_type": "code",
   "execution_count": null,
   "metadata": {},
   "outputs": [],
   "source": [
    "with os.listdir(config_file_dir) as config_files:\n",
    "    for config_file in config_files:\n",
    "        config = ExperimentConfig(config_file)\n",
    "        data_loader.set_config(config)\n",
    "\n",
    "        runner = ExperimentRunner(config, data_loader)\n",
    "        results = runner.run()\n",
    "\n",
    "        accuracy[config.ci_ratio_index, config.num_real_shots_index, config.sr_ratio_index] = results.accuracy\n",
    "\n",
    "        with open(results_file, \"wb\") as f:\n",
    "            np.save(f, accuracy)"
   ]
  }
 ],
 "metadata": {
  "kernelspec": {
   "display_name": "Python 3",
   "language": "python",
   "name": "python3"
  },
  "language_info": {
   "codemirror_mode": {
    "name": "ipython",
    "version": 3
   },
   "file_extension": ".py",
   "mimetype": "text/x-python",
   "name": "python",
   "nbconvert_exporter": "python",
   "pygments_lexer": "ipython3",
   "version": "3.10.2"
  }
 },
 "nbformat": 4,
 "nbformat_minor": 2
}
