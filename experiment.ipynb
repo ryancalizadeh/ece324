{
 "cells": [
  {
   "cell_type": "code",
   "execution_count": 1,
   "metadata": {},
   "outputs": [],
   "source": [
    "import tensorflow as tf\n",
    "import ConfigGenerator\n",
    "import ExperimentRunner\n",
    "import ExperimentConfig\n",
    "import DataLoader\n",
    "import Results\n",
    "import Generator\n",
    "\n",
    "import numpy as np\n",
    "import os"
   ]
  },
  {
   "cell_type": "code",
   "execution_count": 2,
   "metadata": {},
   "outputs": [
    {
     "data": {
      "text/plain": [
       "<module 'Generator' from 'c:\\\\Users\\\\ryanalizadeh\\\\Downloads\\\\school\\\\ECE324\\\\ece324\\\\Generator.py'>"
      ]
     },
     "execution_count": 2,
     "metadata": {},
     "output_type": "execute_result"
    }
   ],
   "source": [
    "import importlib\n",
    "importlib.reload(ConfigGenerator)\n",
    "importlib.reload(ExperimentRunner)\n",
    "importlib.reload(ExperimentConfig)\n",
    "importlib.reload(DataLoader)\n",
    "importlib.reload(Results)\n",
    "importlib.reload(Generator)\n"
   ]
  },
  {
   "cell_type": "code",
   "execution_count": 3,
   "metadata": {},
   "outputs": [
    {
     "name": "stderr",
     "output_type": "stream",
     "text": [
      "c:\\Users\\ryanalizadeh\\AppData\\Local\\Programs\\Python\\Python310\\lib\\site-packages\\torchvision\\models\\detection\\anchor_utils.py:63: UserWarning: Failed to initialize NumPy: module compiled against API version 0x10 but this version of numpy is 0xf . Check the section C-API incompatibility at the Troubleshooting ImportError section at https://numpy.org/devdocs/user/troubleshooting-importerror.html#c-api-incompatibility for indications on how to solve this problem . (Triggered internally at ..\\torch\\csrc\\utils\\tensor_numpy.cpp:84.)\n",
      "  device: torch.device = torch.device(\"cpu\"),\n"
     ]
    },
    {
     "name": "stdout",
     "output_type": "stream",
     "text": [
      "Using downloaded and verified file: C:\\Users\\ryanalizadeh\\.medmnist\\pneumoniamnist.npz\n",
      "Using downloaded and verified file: C:\\Users\\ryanalizadeh\\.medmnist\\pneumoniamnist.npz\n",
      "Using downloaded and verified file: C:\\Users\\ryanalizadeh\\.medmnist\\pneumoniamnist.npz\n"
     ]
    }
   ],
   "source": [
    "config_file_dir = \"configs/\"\n",
    "results_file = \"results.npy\"\n",
    "\n",
    "#ConfigGenerator.ConfigGenerator.generate_config_files(config_file_dir)\n",
    "data_loader = DataLoader.DataLoader()"
   ]
  },
  {
   "cell_type": "code",
   "execution_count": 4,
   "metadata": {},
   "outputs": [],
   "source": [
    "accuracy = np.zeros(ConfigGenerator.ConfigGenerator.get_results_shape())"
   ]
  },
  {
   "cell_type": "code",
   "execution_count": 5,
   "metadata": {},
   "outputs": [
    {
     "name": "stdout",
     "output_type": "stream",
     "text": [
      "ci0.0_nrs1024_sr0.0\n",
      "0\n",
      "1\n",
      "2\n",
      "3\n",
      "4\n",
      "0\n",
      "1\n",
      "2\n",
      "3\n",
      "4\n"
     ]
    },
    {
     "ename": "ValueError",
     "evalue": "all the input arrays must have same number of dimensions, but the array at index 0 has 3 dimension(s) and the array at index 1 has 4 dimension(s)",
     "output_type": "error",
     "traceback": [
      "\u001b[1;31m---------------------------------------------------------------------------\u001b[0m",
      "\u001b[1;31mValueError\u001b[0m                                Traceback (most recent call last)",
      "Cell \u001b[1;32mIn[5], line 9\u001b[0m\n\u001b[0;32m      6\u001b[0m \u001b[38;5;28mprint\u001b[39m(config\u001b[38;5;241m.\u001b[39mname)\n\u001b[0;32m      8\u001b[0m runner \u001b[38;5;241m=\u001b[39m ExperimentRunner\u001b[38;5;241m.\u001b[39mExperimentRunner(config, data_loader)\n\u001b[1;32m----> 9\u001b[0m results \u001b[38;5;241m=\u001b[39m \u001b[43mrunner\u001b[49m\u001b[38;5;241;43m.\u001b[39;49m\u001b[43mrun\u001b[49m\u001b[43m(\u001b[49m\u001b[43m)\u001b[49m\n\u001b[0;32m     11\u001b[0m accuracy[config\u001b[38;5;241m.\u001b[39mci_ratio_index, config\u001b[38;5;241m.\u001b[39mnum_real_shots_index, config\u001b[38;5;241m.\u001b[39msr_ratio_index] \u001b[38;5;241m=\u001b[39m results\u001b[38;5;241m.\u001b[39maccuracy\n\u001b[0;32m     13\u001b[0m \u001b[38;5;28;01mwith\u001b[39;00m \u001b[38;5;28mopen\u001b[39m(results_file, \u001b[38;5;124m\"\u001b[39m\u001b[38;5;124mwb\u001b[39m\u001b[38;5;124m\"\u001b[39m) \u001b[38;5;28;01mas\u001b[39;00m f:\n",
      "File \u001b[1;32mc:\\Users\\ryanalizadeh\\Downloads\\school\\ECE324\\ece324\\ExperimentRunner.py:40\u001b[0m, in \u001b[0;36mExperimentRunner.run\u001b[1;34m(self)\u001b[0m\n\u001b[0;32m     37\u001b[0m generated_y \u001b[38;5;241m=\u001b[39m np\u001b[38;5;241m.\u001b[39mconcatenate((np\u001b[38;5;241m.\u001b[39mzeros(num_neg_imgs), np\u001b[38;5;241m.\u001b[39mones(num_pos_imgs)))\n\u001b[0;32m     39\u001b[0m classifier \u001b[38;5;241m=\u001b[39m Classifier(\u001b[38;5;28mself\u001b[39m\u001b[38;5;241m.\u001b[39mconfig)\n\u001b[1;32m---> 40\u001b[0m \u001b[43mclassifier\u001b[49m\u001b[38;5;241;43m.\u001b[39;49m\u001b[43mtrain\u001b[49m\u001b[43m(\u001b[49m\u001b[43mx_train\u001b[49m\u001b[43m,\u001b[49m\u001b[43m \u001b[49m\u001b[43my_train\u001b[49m\u001b[43m,\u001b[49m\u001b[43m \u001b[49m\u001b[43mgenerated_x\u001b[49m\u001b[43m,\u001b[49m\u001b[43m \u001b[49m\u001b[43mgenerated_y\u001b[49m\u001b[43m)\u001b[49m\n\u001b[0;32m     41\u001b[0m \u001b[38;5;28;01mreturn\u001b[39;00m classifier\u001b[38;5;241m.\u001b[39mevaluate(x_test, y_test)\n",
      "File \u001b[1;32mc:\\Users\\ryanalizadeh\\Downloads\\school\\ECE324\\ece324\\Classifier.py:31\u001b[0m, in \u001b[0;36mClassifier.train\u001b[1;34m(self, x, y, generated_x, generated_y)\u001b[0m\n\u001b[0;32m     28\u001b[0m \u001b[38;5;250m\u001b[39m\u001b[38;5;124;03m\"\"\"Train the classifier based on the training data and the generated data.\"\"\"\u001b[39;00m\n\u001b[0;32m     30\u001b[0m \u001b[38;5;66;03m# combine real and generated\u001b[39;00m\n\u001b[1;32m---> 31\u001b[0m combined_x \u001b[38;5;241m=\u001b[39m \u001b[43mnp\u001b[49m\u001b[38;5;241;43m.\u001b[39;49m\u001b[43mconcatenate\u001b[49m\u001b[43m(\u001b[49m\u001b[43m(\u001b[49m\u001b[43mx\u001b[49m\u001b[43m,\u001b[49m\u001b[43m \u001b[49m\u001b[43mgenerated_x\u001b[49m\u001b[43m)\u001b[49m\u001b[43m,\u001b[49m\u001b[43m \u001b[49m\u001b[43maxis\u001b[49m\u001b[38;5;241;43m=\u001b[39;49m\u001b[38;5;241;43m0\u001b[39;49m\u001b[43m)\u001b[49m\n\u001b[0;32m     32\u001b[0m combined_y \u001b[38;5;241m=\u001b[39m np\u001b[38;5;241m.\u001b[39mconcatenate((y, generated_y), axis\u001b[38;5;241m=\u001b[39m\u001b[38;5;241m0\u001b[39m)\n\u001b[0;32m     34\u001b[0m \u001b[38;5;66;03m# shuffle the combined data\u001b[39;00m\n",
      "File \u001b[1;32m<__array_function__ internals>:180\u001b[0m, in \u001b[0;36mconcatenate\u001b[1;34m(*args, **kwargs)\u001b[0m\n",
      "\u001b[1;31mValueError\u001b[0m: all the input arrays must have same number of dimensions, but the array at index 0 has 3 dimension(s) and the array at index 1 has 4 dimension(s)"
     ]
    }
   ],
   "source": [
    "config_files = os.listdir(config_file_dir)\n",
    "\n",
    "for config_file in config_files:\n",
    "    config = ExperimentConfig.ExperimentConfig(config_file_dir + config_file)\n",
    "    data_loader.set_config(config)\n",
    "    print(config.name)\n",
    "\n",
    "    runner = ExperimentRunner.ExperimentRunner(config, data_loader)\n",
    "    results = runner.run()\n",
    "\n",
    "    accuracy[config.ci_ratio_index, config.num_real_shots_index, config.sr_ratio_index] = results.accuracy\n",
    "\n",
    "    with open(results_file, \"wb\") as f:\n",
    "        np.save(f, accuracy)"
   ]
  }
 ],
 "metadata": {
  "kernelspec": {
   "display_name": "Python 3",
   "language": "python",
   "name": "python3"
  },
  "language_info": {
   "codemirror_mode": {
    "name": "ipython",
    "version": 3
   },
   "file_extension": ".py",
   "mimetype": "text/x-python",
   "name": "python",
   "nbconvert_exporter": "python",
   "pygments_lexer": "ipython3",
   "version": "3.10.2"
  }
 },
 "nbformat": 4,
 "nbformat_minor": 2
}
